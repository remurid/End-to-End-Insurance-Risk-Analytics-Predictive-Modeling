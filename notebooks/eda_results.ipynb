{
 "cells": [
  {
   "cell_type": "markdown",
   "id": "4f284b6e",
   "metadata": {},
   "source": [
    "# Insurance Data EDA Results\n",
    "This notebook presents the exploratory data analysis (EDA) results for the insurance dataset, including data summary, missing values, distributions, outlier detection, and key insights visualized."
   ]
  },
  {
   "cell_type": "code",
   "execution_count": 1,
   "id": "e60bb90d",
   "metadata": {},
   "outputs": [
    {
     "ename": "KeyboardInterrupt",
     "evalue": "",
     "output_type": "error",
     "traceback": [
      "\u001b[31m---------------------------------------------------------------------------\u001b[39m",
      "\u001b[31mKeyboardInterrupt\u001b[39m                         Traceback (most recent call last)",
      "\u001b[36mCell\u001b[39m\u001b[36m \u001b[39m\u001b[32mIn[1]\u001b[39m\u001b[32m, line 2\u001b[39m\n\u001b[32m      1\u001b[39m \u001b[38;5;66;03m# Import required libraries\u001b[39;00m\n\u001b[32m----> \u001b[39m\u001b[32m2\u001b[39m \u001b[38;5;28;01mimport\u001b[39;00m\u001b[38;5;250m \u001b[39m\u001b[34;01mpandas\u001b[39;00m\u001b[38;5;250m \u001b[39m\u001b[38;5;28;01mas\u001b[39;00m\u001b[38;5;250m \u001b[39m\u001b[34;01mpd\u001b[39;00m\n\u001b[32m      3\u001b[39m \u001b[38;5;28;01mimport\u001b[39;00m\u001b[38;5;250m \u001b[39m\u001b[34;01mmatplotlib\u001b[39;00m\u001b[34;01m.\u001b[39;00m\u001b[34;01mpyplot\u001b[39;00m\u001b[38;5;250m \u001b[39m\u001b[38;5;28;01mas\u001b[39;00m\u001b[38;5;250m \u001b[39m\u001b[34;01mplt\u001b[39;00m\n\u001b[32m      4\u001b[39m \u001b[38;5;28;01mimport\u001b[39;00m\u001b[38;5;250m \u001b[39m\u001b[34;01mseaborn\u001b[39;00m\u001b[38;5;250m \u001b[39m\u001b[38;5;28;01mas\u001b[39;00m\u001b[38;5;250m \u001b[39m\u001b[34;01msns\u001b[39;00m\n",
      "\u001b[36mFile \u001b[39m\u001b[32md:\\Personal Projects\\TENx\\Week3\\code\\End-to-End Insurance Risk Analytics & Predictive Modeling\\.venv\\Lib\\site-packages\\pandas\\__init__.py:61\u001b[39m\n\u001b[32m     58\u001b[39m \u001b[38;5;66;03m# let init-time option registration happen\u001b[39;00m\n\u001b[32m     59\u001b[39m \u001b[38;5;28;01mimport\u001b[39;00m\u001b[38;5;250m \u001b[39m\u001b[34;01mpandas\u001b[39;00m\u001b[34;01m.\u001b[39;00m\u001b[34;01mcore\u001b[39;00m\u001b[34;01m.\u001b[39;00m\u001b[34;01mconfig_init\u001b[39;00m  \u001b[38;5;66;03m# pyright: ignore[reportUnusedImport] # noqa: F401\u001b[39;00m\n\u001b[32m---> \u001b[39m\u001b[32m61\u001b[39m \u001b[38;5;28;01mfrom\u001b[39;00m\u001b[38;5;250m \u001b[39m\u001b[34;01mpandas\u001b[39;00m\u001b[34;01m.\u001b[39;00m\u001b[34;01mcore\u001b[39;00m\u001b[34;01m.\u001b[39;00m\u001b[34;01mapi\u001b[39;00m\u001b[38;5;250m \u001b[39m\u001b[38;5;28;01mimport\u001b[39;00m (\n\u001b[32m     62\u001b[39m     \u001b[38;5;66;03m# dtype\u001b[39;00m\n\u001b[32m     63\u001b[39m     ArrowDtype,\n\u001b[32m     64\u001b[39m     Int8Dtype,\n\u001b[32m     65\u001b[39m     Int16Dtype,\n\u001b[32m     66\u001b[39m     Int32Dtype,\n\u001b[32m     67\u001b[39m     Int64Dtype,\n\u001b[32m     68\u001b[39m     UInt8Dtype,\n\u001b[32m     69\u001b[39m     UInt16Dtype,\n\u001b[32m     70\u001b[39m     UInt32Dtype,\n\u001b[32m     71\u001b[39m     UInt64Dtype,\n\u001b[32m     72\u001b[39m     Float32Dtype,\n\u001b[32m     73\u001b[39m     Float64Dtype,\n\u001b[32m     74\u001b[39m     CategoricalDtype,\n\u001b[32m     75\u001b[39m     PeriodDtype,\n\u001b[32m     76\u001b[39m     IntervalDtype,\n\u001b[32m     77\u001b[39m     DatetimeTZDtype,\n\u001b[32m     78\u001b[39m     StringDtype,\n\u001b[32m     79\u001b[39m     BooleanDtype,\n\u001b[32m     80\u001b[39m     \u001b[38;5;66;03m# missing\u001b[39;00m\n\u001b[32m     81\u001b[39m     NA,\n\u001b[32m     82\u001b[39m     isna,\n\u001b[32m     83\u001b[39m     isnull,\n\u001b[32m     84\u001b[39m     notna,\n\u001b[32m     85\u001b[39m     notnull,\n\u001b[32m     86\u001b[39m     \u001b[38;5;66;03m# indexes\u001b[39;00m\n\u001b[32m     87\u001b[39m     Index,\n\u001b[32m     88\u001b[39m     CategoricalIndex,\n\u001b[32m     89\u001b[39m     RangeIndex,\n\u001b[32m     90\u001b[39m     MultiIndex,\n\u001b[32m     91\u001b[39m     IntervalIndex,\n\u001b[32m     92\u001b[39m     TimedeltaIndex,\n\u001b[32m     93\u001b[39m     DatetimeIndex,\n\u001b[32m     94\u001b[39m     PeriodIndex,\n\u001b[32m     95\u001b[39m     IndexSlice,\n\u001b[32m     96\u001b[39m     \u001b[38;5;66;03m# tseries\u001b[39;00m\n\u001b[32m     97\u001b[39m     NaT,\n\u001b[32m     98\u001b[39m     Period,\n\u001b[32m     99\u001b[39m     period_range,\n\u001b[32m    100\u001b[39m     Timedelta,\n\u001b[32m    101\u001b[39m     timedelta_range,\n\u001b[32m    102\u001b[39m     Timestamp,\n\u001b[32m    103\u001b[39m     date_range,\n\u001b[32m    104\u001b[39m     bdate_range,\n\u001b[32m    105\u001b[39m     Interval,\n\u001b[32m    106\u001b[39m     interval_range,\n\u001b[32m    107\u001b[39m     DateOffset,\n\u001b[32m    108\u001b[39m     \u001b[38;5;66;03m# conversion\u001b[39;00m\n\u001b[32m    109\u001b[39m     to_numeric,\n\u001b[32m    110\u001b[39m     to_datetime,\n\u001b[32m    111\u001b[39m     to_timedelta,\n\u001b[32m    112\u001b[39m     \u001b[38;5;66;03m# misc\u001b[39;00m\n\u001b[32m    113\u001b[39m     Flags,\n\u001b[32m    114\u001b[39m     Grouper,\n\u001b[32m    115\u001b[39m     factorize,\n\u001b[32m    116\u001b[39m     unique,\n\u001b[32m    117\u001b[39m     value_counts,\n\u001b[32m    118\u001b[39m     NamedAgg,\n\u001b[32m    119\u001b[39m     array,\n\u001b[32m    120\u001b[39m     Categorical,\n\u001b[32m    121\u001b[39m     set_eng_float_format,\n\u001b[32m    122\u001b[39m     Series,\n\u001b[32m    123\u001b[39m     DataFrame,\n\u001b[32m    124\u001b[39m )\n\u001b[32m    126\u001b[39m \u001b[38;5;28;01mfrom\u001b[39;00m\u001b[38;5;250m \u001b[39m\u001b[34;01mpandas\u001b[39;00m\u001b[34;01m.\u001b[39;00m\u001b[34;01mcore\u001b[39;00m\u001b[34;01m.\u001b[39;00m\u001b[34;01mdtypes\u001b[39;00m\u001b[34;01m.\u001b[39;00m\u001b[34;01mdtypes\u001b[39;00m\u001b[38;5;250m \u001b[39m\u001b[38;5;28;01mimport\u001b[39;00m SparseDtype\n\u001b[32m    128\u001b[39m \u001b[38;5;28;01mfrom\u001b[39;00m\u001b[38;5;250m \u001b[39m\u001b[34;01mpandas\u001b[39;00m\u001b[34;01m.\u001b[39;00m\u001b[34;01mtseries\u001b[39;00m\u001b[34;01m.\u001b[39;00m\u001b[34;01mapi\u001b[39;00m\u001b[38;5;250m \u001b[39m\u001b[38;5;28;01mimport\u001b[39;00m infer_freq\n",
      "\u001b[36mFile \u001b[39m\u001b[32md:\\Personal Projects\\TENx\\Week3\\code\\End-to-End Insurance Risk Analytics & Predictive Modeling\\.venv\\Lib\\site-packages\\pandas\\core\\api.py:1\u001b[39m\n\u001b[32m----> \u001b[39m\u001b[32m1\u001b[39m \u001b[38;5;28;01mfrom\u001b[39;00m\u001b[38;5;250m \u001b[39m\u001b[34;01mpandas\u001b[39;00m\u001b[34;01m.\u001b[39;00m\u001b[34;01m_libs\u001b[39;00m\u001b[38;5;250m \u001b[39m\u001b[38;5;28;01mimport\u001b[39;00m (\n\u001b[32m      2\u001b[39m     NaT,\n\u001b[32m      3\u001b[39m     Period,\n\u001b[32m      4\u001b[39m     Timedelta,\n\u001b[32m      5\u001b[39m     Timestamp,\n\u001b[32m      6\u001b[39m )\n\u001b[32m      7\u001b[39m \u001b[38;5;28;01mfrom\u001b[39;00m\u001b[38;5;250m \u001b[39m\u001b[34;01mpandas\u001b[39;00m\u001b[34;01m.\u001b[39;00m\u001b[34;01m_libs\u001b[39;00m\u001b[34;01m.\u001b[39;00m\u001b[34;01mmissing\u001b[39;00m\u001b[38;5;250m \u001b[39m\u001b[38;5;28;01mimport\u001b[39;00m NA\n\u001b[32m      9\u001b[39m \u001b[38;5;28;01mfrom\u001b[39;00m\u001b[38;5;250m \u001b[39m\u001b[34;01mpandas\u001b[39;00m\u001b[34;01m.\u001b[39;00m\u001b[34;01mcore\u001b[39;00m\u001b[34;01m.\u001b[39;00m\u001b[34;01mdtypes\u001b[39;00m\u001b[34;01m.\u001b[39;00m\u001b[34;01mdtypes\u001b[39;00m\u001b[38;5;250m \u001b[39m\u001b[38;5;28;01mimport\u001b[39;00m (\n\u001b[32m     10\u001b[39m     ArrowDtype,\n\u001b[32m     11\u001b[39m     CategoricalDtype,\n\u001b[32m   (...)\u001b[39m\u001b[32m     14\u001b[39m     PeriodDtype,\n\u001b[32m     15\u001b[39m )\n",
      "\u001b[36mFile \u001b[39m\u001b[32md:\\Personal Projects\\TENx\\Week3\\code\\End-to-End Insurance Risk Analytics & Predictive Modeling\\.venv\\Lib\\site-packages\\pandas\\_libs\\__init__.py:18\u001b[39m\n\u001b[32m     16\u001b[39m \u001b[38;5;28;01mimport\u001b[39;00m\u001b[38;5;250m \u001b[39m\u001b[34;01mpandas\u001b[39;00m\u001b[34;01m.\u001b[39;00m\u001b[34;01m_libs\u001b[39;00m\u001b[34;01m.\u001b[39;00m\u001b[34;01mpandas_parser\u001b[39;00m  \u001b[38;5;66;03m# isort: skip # type: ignore[reportUnusedImport]\u001b[39;00m\n\u001b[32m     17\u001b[39m \u001b[38;5;28;01mimport\u001b[39;00m\u001b[38;5;250m \u001b[39m\u001b[34;01mpandas\u001b[39;00m\u001b[34;01m.\u001b[39;00m\u001b[34;01m_libs\u001b[39;00m\u001b[34;01m.\u001b[39;00m\u001b[34;01mpandas_datetime\u001b[39;00m  \u001b[38;5;66;03m# noqa: F401 # isort: skip # type: ignore[reportUnusedImport]\u001b[39;00m\n\u001b[32m---> \u001b[39m\u001b[32m18\u001b[39m \u001b[38;5;28;01mfrom\u001b[39;00m\u001b[38;5;250m \u001b[39m\u001b[34;01mpandas\u001b[39;00m\u001b[34;01m.\u001b[39;00m\u001b[34;01m_libs\u001b[39;00m\u001b[34;01m.\u001b[39;00m\u001b[34;01minterval\u001b[39;00m\u001b[38;5;250m \u001b[39m\u001b[38;5;28;01mimport\u001b[39;00m Interval\n\u001b[32m     19\u001b[39m \u001b[38;5;28;01mfrom\u001b[39;00m\u001b[38;5;250m \u001b[39m\u001b[34;01mpandas\u001b[39;00m\u001b[34;01m.\u001b[39;00m\u001b[34;01m_libs\u001b[39;00m\u001b[34;01m.\u001b[39;00m\u001b[34;01mtslibs\u001b[39;00m\u001b[38;5;250m \u001b[39m\u001b[38;5;28;01mimport\u001b[39;00m (\n\u001b[32m     20\u001b[39m     NaT,\n\u001b[32m     21\u001b[39m     NaTType,\n\u001b[32m   (...)\u001b[39m\u001b[32m     26\u001b[39m     iNaT,\n\u001b[32m     27\u001b[39m )\n",
      "\u001b[36mFile \u001b[39m\u001b[32mpandas/_libs/interval.pyx:1\u001b[39m, in \u001b[36minit pandas._libs.interval\u001b[39m\u001b[34m()\u001b[39m\n",
      "\u001b[36mFile \u001b[39m\u001b[32mpandas/_libs/hashtable.pyx:1\u001b[39m, in \u001b[36minit pandas._libs.hashtable\u001b[39m\u001b[34m()\u001b[39m\n",
      "\u001b[36mFile \u001b[39m\u001b[32m<frozen importlib._bootstrap>:645\u001b[39m, in \u001b[36mparent\u001b[39m\u001b[34m(self)\u001b[39m\n",
      "\u001b[31mKeyboardInterrupt\u001b[39m: "
     ]
    }
   ],
   "source": [
    "# Import required libraries\n",
    "import pandas as pd\n",
    "import matplotlib.pyplot as plt\n",
    "import seaborn as sns\n",
    "import os\n",
    "\n",
    "# Set plot style\n",
    "sns.set(style=\"whitegrid\")"
   ]
  },
  {
   "cell_type": "markdown",
   "id": "7628f9ac",
   "metadata": {},
   "source": [
    "## Data Overview\n",
    "Read a sample of the data and display column types, sample rows, and missing value summary."
   ]
  },
  {
   "cell_type": "code",
   "execution_count": null,
   "id": "f4712852",
   "metadata": {},
   "outputs": [],
   "source": [
    "# File path\n",
    "DATA_PATH = os.path.join('..', 'data', 'raw', 'MachineLearningRating_v3.txt')\n",
    "\n",
    "# Read a small sample\n",
    "sample = pd.read_csv(DATA_PATH, sep='|', nrows=10)\n",
    "sample.columns = sample.columns.str.strip()  # Remove any leading/trailing spaces\n",
    "print('Columns in sample:', list(sample.columns))\n",
    "display(sample.dtypes)\n",
    "display(sample.head())"
   ]
  },
  {
   "cell_type": "code",
   "execution_count": null,
   "id": "1f594392",
   "metadata": {},
   "outputs": [],
   "source": [
    "# Check missing values for key columns\n",
    "NUM_COLS = ['TotalPremium', 'TotalClaims', 'CustomValueEstimate']\n",
    "missing = sample[[col for col in NUM_COLS if col in sample.columns]].isna().sum()\n",
    "print('Missing values in sample:')\n",
    "print(missing)"
   ]
  },
  {
   "cell_type": "markdown",
   "id": "405d0af5",
   "metadata": {},
   "source": [
    "## Key Insights\n",
    "- The data contains some missing values in key financial columns.\n",
    "- Outliers are present in TotalPremium and TotalClaims, as seen in the boxplots.\n",
    "- Loss Ratio varies significantly by Province, VehicleType, and Gender.\n",
    "- There are visible temporal trends in premium and claims over the 18-month period."
   ]
  },
  {
   "cell_type": "markdown",
   "id": "0634617c",
   "metadata": {},
   "source": [
    "## Descriptive Statistics\n",
    "Summary statistics for key numerical columns."
   ]
  },
  {
   "cell_type": "code",
   "execution_count": null,
   "id": "77aa0542",
   "metadata": {},
   "outputs": [],
   "source": [
    "# Read a larger sample for statistics\n",
    "stats_sample = pd.read_csv(DATA_PATH, sep='|', usecols=[col for col in NUM_COLS if col in sample.columns], nrows=10000)\n",
    "stats_sample.describe()"
   ]
  },
  {
   "cell_type": "markdown",
   "id": "1cc66559",
   "metadata": {},
   "source": [
    "## Distribution and Outlier Detection\n",
    "Visualize the distribution and outliers for TotalPremium, TotalClaims, and CustomValueEstimate."
   ]
  },
  {
   "cell_type": "code",
   "execution_count": null,
   "id": "ac66d6b7",
   "metadata": {},
   "outputs": [],
   "source": [
    "for col in [col for col in NUM_COLS if col in stats_sample.columns]:\n",
    "    plt.figure(figsize=(8,4))\n",
    "    sns.histplot(stats_sample[col].dropna(), bins=50, kde=True)\n",
    "    plt.title(f'Distribution of {col}')\n",
    "    plt.show()\n",
    "    plt.figure(figsize=(6,2))\n",
    "    sns.boxplot(x=stats_sample[col].dropna())\n",
    "    plt.title(f'Outliers in {col}')\n",
    "    plt.show()"
   ]
  },
  {
   "cell_type": "markdown",
   "id": "ea9e3798",
   "metadata": {},
   "source": [
    "## Loss Ratio Analysis\n",
    "Loss Ratio (TotalClaims / TotalPremium) by Province, VehicleType, and Gender."
   ]
  },
  {
   "cell_type": "code",
   "execution_count": null,
   "id": "ac8f262b",
   "metadata": {},
   "outputs": [],
   "source": [
    "# Read relevant columns for group analysis\n",
    "GROUP_COLS = ['Province', 'VehicleType', 'Gender']\n",
    "group_sample = pd.read_csv(DATA_PATH, sep='|', usecols=GROUP_COLS + ['TotalPremium', 'TotalClaims'], nrows=10000)\n",
    "for group in GROUP_COLS:\n",
    "    df = group_sample.groupby(group)[['TotalPremium', 'TotalClaims']].sum()\n",
    "    df['LossRatio'] = df['TotalClaims'] / df['TotalPremium']\n",
    "    df = df.sort_values('LossRatio', ascending=False)\n",
    "    plt.figure(figsize=(10,4))\n",
    "    sns.barplot(x=df.index, y=df['LossRatio'])\n",
    "    plt.title(f'Loss Ratio by {group}')\n",
    "    plt.xticks(rotation=45)\n",
    "    plt.show()"
   ]
  },
  {
   "cell_type": "markdown",
   "id": "a121b4d1",
   "metadata": {},
   "source": [
    "## Temporal Trends\n",
    "Monthly trends in TotalPremium and TotalClaims."
   ]
  },
  {
   "cell_type": "code",
   "execution_count": null,
   "id": "294e68cf",
   "metadata": {},
   "outputs": [],
   "source": [
    "# Read date and financial columns\n",
    "DATE_COL = 'TransactionMonth'\n",
    "date_sample = pd.read_csv(DATA_PATH, sep='|', usecols=[DATE_COL, 'TotalPremium', 'TotalClaims'], nrows=10000)\n",
    "date_sample[DATE_COL] = pd.to_datetime(date_sample[DATE_COL], errors='coerce')\n",
    "df = date_sample.groupby(DATE_COL)[['TotalPremium', 'TotalClaims']].sum().sort_index()\n",
    "df.plot(figsize=(12,5))\n",
    "plt.title('Monthly Total Premium and Claims')\n",
    "plt.ylabel('Amount')\n",
    "plt.show()"
   ]
  },
  {
   "cell_type": "markdown",
   "id": "327d67ba",
   "metadata": {},
   "source": [
    "## Correlation and Scatter Plot\n",
    "Correlation matrix and scatter plot between TotalPremium and TotalClaims, colored by PostalCode."
   ]
  },
  {
   "cell_type": "code",
   "execution_count": null,
   "id": "6ee0b208",
   "metadata": {},
   "outputs": [],
   "source": [
    "# Correlation and scatter plot between TotalPremium and TotalClaims, colored by PostalCode\n",
    "corr_sample = pd.read_csv(DATA_PATH, sep='|', usecols=['TotalPremium', 'TotalClaims', 'PostalCode'], nrows=10000)\n",
    "# Drop rows with missing values\n",
    "corr_sample = corr_sample.dropna(subset=['TotalPremium', 'TotalClaims', 'PostalCode'])\n",
    "\n",
    "# Correlation matrix\n",
    "corr = corr_sample[['TotalPremium', 'TotalClaims']].corr()\n",
    "print('Correlation matrix:')\n",
    "display(corr)\n",
    "\n",
    "# Scatter plot\n",
    "plt.figure(figsize=(8,6))\n",
    "sns.scatterplot(data=corr_sample, x='TotalPremium', y='TotalClaims', hue='PostalCode', palette='tab20', legend=False, alpha=0.7)\n",
    "plt.title('TotalPremium vs TotalClaims by PostalCode')\n",
    "plt.xlabel('TotalPremium')\n",
    "plt.ylabel('TotalClaims')\n",
    "plt.show()"
   ]
  },
  {
   "cell_type": "markdown",
   "id": "4ab7a79d",
   "metadata": {},
   "source": [
    "# Correlation and Scatter Plot Analysis\n",
    "Explore the relationship between TotalPremium and TotalClaims, and visualize their correlation by PostalCode."
   ]
  },
  {
   "cell_type": "code",
   "execution_count": null,
   "id": "b16de17d",
   "metadata": {},
   "outputs": [],
   "source": [
    "# Correlation and scatter plot between TotalPremium and TotalClaims, colored by PostalCode\n",
    "corr_sample = pd.read_csv(DATA_PATH, sep='|', usecols=['TotalPremium', 'TotalClaims', 'PostalCode'], nrows=10000)\n",
    "# Drop rows with missing values\n",
    "corr_sample = corr_sample.dropna(subset=['TotalPremium', 'TotalClaims', 'PostalCode'])\n",
    "\n",
    "# Correlation matrix\n",
    "corr = corr_sample[['TotalPremium', 'TotalClaims']].corr()\n",
    "print('Correlation matrix:')\n",
    "display(corr)\n",
    "\n",
    "# Scatter plot\n",
    "plt.figure(figsize=(8,6))\n",
    "sns.scatterplot(data=corr_sample, x='TotalPremium', y='TotalClaims', hue='PostalCode', palette='tab20', legend=False, alpha=0.7)\n",
    "plt.title('TotalPremium vs TotalClaims by PostalCode')\n",
    "plt.xlabel('TotalPremium')\n",
    "plt.ylabel('TotalClaims')\n",
    "plt.show()"
   ]
  },
  {
   "cell_type": "markdown",
   "id": "98b39986",
   "metadata": {},
   "source": [
    "---\n",
    "\n",
    "This completes the minimum EDA requirements:\n",
    "- Data summarization and quality assessment\n",
    "- Univariate and bivariate analysis (including correlation and scatter plot)\n",
    "- Outlier detection\n",
    "- Trends and creative visualizations\n",
    "\n",
    "See previous cells for all outputs and insights."
   ]
  }
 ],
 "metadata": {
  "kernelspec": {
   "display_name": ".venv",
   "language": "python",
   "name": "python3"
  },
  "language_info": {
   "codemirror_mode": {
    "name": "ipython",
    "version": 3
   },
   "file_extension": ".py",
   "mimetype": "text/x-python",
   "name": "python",
   "nbconvert_exporter": "python",
   "pygments_lexer": "ipython3",
   "version": "3.13.5"
  }
 },
 "nbformat": 4,
 "nbformat_minor": 5
}
